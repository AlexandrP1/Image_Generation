{
  "nbformat": 4,
  "nbformat_minor": 0,
  "metadata": {
    "colab": {
      "provenance": [],
      "authorship_tag": "ABX9TyMSPXgZudrqwVaIzfzq+vzh",
      "include_colab_link": true
    },
    "kernelspec": {
      "name": "python3",
      "display_name": "Python 3"
    },
    "language_info": {
      "name": "python"
    }
  },
  "cells": [
    {
      "cell_type": "markdown",
      "metadata": {
        "id": "view-in-github",
        "colab_type": "text"
      },
      "source": [
        "<a href=\"https://colab.research.google.com/github/AlexandrP1/Image_Generation/blob/main/GitHub_Collab.ipynb\" target=\"_parent\"><img src=\"https://colab.research.google.com/assets/colab-badge.svg\" alt=\"Open In Colab\"/></a>"
      ]
    },
    {
      "cell_type": "code",
      "execution_count": 1,
      "metadata": {
        "colab": {
          "base_uri": "https://localhost:8080/"
        },
        "id": "FYyqVO-R5Fi-",
        "outputId": "e209f661-bfd3-4f70-f7f6-451c4edc24d4"
      },
      "outputs": [
        {
          "output_type": "stream",
          "name": "stdout",
          "text": [
            "Get:1 https://cloud.r-project.org/bin/linux/ubuntu jammy-cran40/ InRelease [3,626 B]\n",
            "Get:2 https://r2u.stat.illinois.edu/ubuntu jammy InRelease [6,555 B]\n",
            "Get:3 https://developer.download.nvidia.com/compute/cuda/repos/ubuntu2204/x86_64  InRelease [1,581 B]\n",
            "Get:4 https://cloud.r-project.org/bin/linux/ubuntu jammy-cran40/ Packages [61.9 kB]\n",
            "Get:5 https://ppa.launchpadcontent.net/deadsnakes/ppa/ubuntu jammy InRelease [18.1 kB]\n",
            "Get:6 https://r2u.stat.illinois.edu/ubuntu jammy/main all Packages [8,599 kB]\n",
            "Get:7 https://ppa.launchpadcontent.net/graphics-drivers/ppa/ubuntu jammy InRelease [24.3 kB]\n",
            "Hit:8 https://ppa.launchpadcontent.net/ubuntugis/ppa/ubuntu jammy InRelease\n",
            "Get:9 https://developer.download.nvidia.com/compute/cuda/repos/ubuntu2204/x86_64  Packages [1,200 kB]\n",
            "Get:10 https://r2u.stat.illinois.edu/ubuntu jammy/main amd64 Packages [2,645 kB]\n",
            "Get:11 https://ppa.launchpadcontent.net/deadsnakes/ppa/ubuntu jammy/main amd64 Packages [32.9 kB]\n",
            "Hit:12 http://archive.ubuntu.com/ubuntu jammy InRelease\n",
            "Get:13 http://archive.ubuntu.com/ubuntu jammy-updates InRelease [128 kB]\n",
            "Get:14 http://archive.ubuntu.com/ubuntu jammy-backports InRelease [127 kB]\n",
            "Get:15 http://security.ubuntu.com/ubuntu jammy-security InRelease [129 kB]\n",
            "Get:16 http://archive.ubuntu.com/ubuntu jammy-updates/main amd64 Packages [2,859 kB]\n",
            "Get:17 http://archive.ubuntu.com/ubuntu jammy-updates/universe amd64 Packages [1,518 kB]\n",
            "Get:18 http://archive.ubuntu.com/ubuntu jammy-updates/restricted amd64 Packages [3,663 kB]\n",
            "Get:19 http://security.ubuntu.com/ubuntu jammy-security/multiverse amd64 Packages [45.2 kB]\n",
            "Get:20 http://security.ubuntu.com/ubuntu jammy-security/main amd64 Packages [2,560 kB]\n",
            "Get:21 http://security.ubuntu.com/ubuntu jammy-security/universe amd64 Packages [1,227 kB]\n",
            "Get:22 http://security.ubuntu.com/ubuntu jammy-security/restricted amd64 Packages [3,527 kB]\n",
            "Fetched 28.4 MB in 8s (3,689 kB/s)\n",
            "Reading package lists... Done\n",
            "W: Skipping acquire of configured file 'main/source/Sources' as repository 'https://r2u.stat.illinois.edu/ubuntu jammy InRelease' does not seem to provide it (sources.list entry misspelt?)\n",
            "Reading package lists... Done\n",
            "Building dependency tree... Done\n",
            "Reading state information... Done\n",
            "Suggested packages:\n",
            "  gettext-base git-daemon-run | git-daemon-sysvinit git-doc git-email git-gui gitk gitweb git-cvs\n",
            "  git-mediawiki git-svn\n",
            "The following packages will be upgraded:\n",
            "  git\n",
            "1 upgraded, 0 newly installed, 0 to remove and 64 not upgraded.\n",
            "Need to get 3,165 kB of archives.\n",
            "After this operation, 4,096 B of additional disk space will be used.\n",
            "Get:1 http://archive.ubuntu.com/ubuntu jammy-updates/main amd64 git amd64 1:2.34.1-1ubuntu1.12 [3,165 kB]\n",
            "Fetched 3,165 kB in 0s (9,206 kB/s)\n",
            "(Reading database ... 123632 files and directories currently installed.)\n",
            "Preparing to unpack .../git_1%3a2.34.1-1ubuntu1.12_amd64.deb ...\n",
            "Unpacking git (1:2.34.1-1ubuntu1.12) over (1:2.34.1-1ubuntu1.11) ...\n",
            "Setting up git (1:2.34.1-1ubuntu1.12) ...\n"
          ]
        },
        {
          "output_type": "execute_result",
          "data": {
            "text/plain": [
              "32768"
            ]
          },
          "metadata": {},
          "execution_count": 1
        }
      ],
      "source": [
        "# Установка Git (если необходимо)\n",
        "!apt-get update\n",
        "!apt-get install git -y\n",
        "\n",
        "# Настройка имени пользователя и email\n",
        "import os\n",
        "\n",
        "user_name = \"AlexandrP1\" # Замените на ваше имя\n",
        "user_email = \"Fin_buh@mail.ru\" # 3aмените на ваш email\n",
        "\n",
        "os.system(f'git config -- global user.name \"{user_name}\"')\n",
        "os.system(f'git config -- global user.email \"{user_email}\"')"
      ]
    },
    {
      "cell_type": "code",
      "source": [
        "from getpass import getpass\n",
        "from getpass import getpass\n",
        "\n",
        "# Введите ваш GitHub токен без пробелов\n",
        "TOKEN = getpass('Введите ваш GitHub токен: ')\n",
        "\n",
        "# URL вашего репозитория\n",
        "REPO_URL = \"https://github.com/AlexandrP1/Image_Generation.git\"\n",
        "\n",
        "# Клонирование репозитория с использованием токена\n",
        "!git clone https://{TOKEN}@https://github.com/AlexandrP1/Image_Generation.git"
      ],
      "metadata": {
        "colab": {
          "base_uri": "https://localhost:8080/"
        },
        "id": "1dfg7hJp5h35",
        "outputId": "0004208a-cf68-4b6d-81e2-a444ab53534c"
      },
      "execution_count": 2,
      "outputs": [
        {
          "output_type": "stream",
          "name": "stdout",
          "text": [
            "Введите ваш GitHub токен: ··········\n",
            "Cloning into 'Image_Generation'...\n",
            "fatal: unable to access 'https://https://github.com/AlexandrP1/Image_Generation.git/': Could not resolve host: https\n"
          ]
        }
      ]
    }
  ]
}